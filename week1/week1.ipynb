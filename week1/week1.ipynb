{
 "cells": [
  {
   "cell_type": "markdown",
   "id": "bcd3622f",
   "metadata": {},
   "source": [
    "# 2609번 - 최대공약수 최소공배수"
   ]
  },
  {
   "cell_type": "markdown",
   "id": "3f5c5c05",
   "metadata": {},
   "source": [
    "## 풀이 1) 입력값: 24, 18\n",
    "1. 최대공약수(gcd):\n",
    "- 나머지가 0이 될 때까지 `a 나누기 b` 시행\n",
    "- 나머지가 0일 때의 `a`값이 최대공약수이므로 `a`만 반환\n",
    "\n",
    "2. 최소공배수(lcm):\n",
    "- `a 곱하기 b`를 최대공약수로 나눈 값이 최소공배수"
   ]
  },
  {
   "cell_type": "code",
   "execution_count": 5,
   "id": "7c7f453d",
   "metadata": {},
   "outputs": [
    {
     "name": "stdout",
     "output_type": "stream",
     "text": [
      "6\n",
      "72\n"
     ]
    }
   ],
   "source": [
    "a, b = map(int, input().split())\n",
    "\n",
    "def gcd(a, b):\n",
    "    while b > 0:\n",
    "        a, b = b, a % b\n",
    "    return a\n",
    "\n",
    "def lcm(a, b):\n",
    "    return a * b // gcd(a, b)\n",
    "\n",
    "print(gcd(a, b))\n",
    "print(lcm(a, b))"
   ]
  },
  {
   "cell_type": "markdown",
   "id": "bdc8321c",
   "metadata": {},
   "source": [
    "## 풀이 2) 입력값: 24, 18\n",
    "- math 모듈의 내장함수 `gcd()`, `lcm()` 사용"
   ]
  },
  {
   "cell_type": "code",
   "execution_count": 6,
   "id": "691c46eb",
   "metadata": {},
   "outputs": [
    {
     "name": "stdout",
     "output_type": "stream",
     "text": [
      "6\n",
      "72\n"
     ]
    }
   ],
   "source": [
    "import math\n",
    "\n",
    "a, b = map(int, input().split())\n",
    "\n",
    "print(math.gcd(a, b))\n",
    "print(math.lcm(a, b))\n"
   ]
  },
  {
   "cell_type": "markdown",
   "id": "7e1eda51",
   "metadata": {},
   "source": [
    "---"
   ]
  },
  {
   "cell_type": "markdown",
   "id": "0d4d7886",
   "metadata": {},
   "source": [
    "# 1978번 - 소수 찾기"
   ]
  },
  {
   "cell_type": "code",
   "execution_count": null,
   "id": "235e4239",
   "metadata": {},
   "outputs": [
    {
     "name": "stdout",
     "output_type": "stream",
     "text": [
      "현재 num: 1\n",
      "1은 소수가 아닙니다.\n",
      "=============\n",
      "현재 num: 3\n",
      " - 현재 i: 2\n",
      "3은(는) 소수입니다. 현재 소수 개수: 1\n",
      "=============\n",
      "현재 num: 5\n",
      " - 현재 i: 2\n",
      " - 현재 i: 3\n",
      " - 현재 i: 4\n",
      "5은(는) 소수입니다. 현재 소수 개수: 2\n",
      "=============\n",
      "현재 num: 6\n",
      " - 현재 i: 2\n",
      "6은(는) 소수가 아닙니다.\n",
      "=============\n",
      "현재 num: 7\n",
      " - 현재 i: 2\n",
      " - 현재 i: 3\n",
      " - 현재 i: 4\n",
      " - 현재 i: 5\n",
      " - 현재 i: 6\n",
      "7은(는) 소수입니다. 현재 소수 개수: 3\n",
      "=============\n",
      "총 소수 개수: 3\n"
     ]
    }
   ],
   "source": [
    "# n값 입력 받고\n",
    "# numbers 입력 받은 다음에\n",
    "# 소수 몇 개인지 세야하니까 count = 0 세팅해주고\n",
    "# for문으로 numbers에 있는 인자들 하나씩 불러와서\n",
    "# 1보다 클 때(1은 소수가 아니니까 제외시키기)\n",
    "# 우선 is_prime = True로 세팅해주고\n",
    "# 다시 for문으로 2부터 num사이의 숫자와 대조하여 나눴을 때 나머지가 0이면 is_prime = False(소수는 1과 자기 자신만을 약수로 가지니까)\n",
    "# 그 다음 두번째 for문 빠져 나와서 is_prime == True면 count += 1 한 뒤\n",
    "# 첫번째 for문 나와서 print(count)\n",
    "\n",
    "\n",
    "n = int(input())\n",
    "numbers = map(int, input().split())\n",
    "\n",
    "count = 0\n",
    "for num in numbers:\n",
    "    print(f\"현재 num: {num}\")\n",
    "    if num > 1:\n",
    "        is_prime = True\n",
    "        for i in range(2, num):\n",
    "            print(f\" - 현재 i: {i}\")\n",
    "            if num % i == 0:\n",
    "                is_prime = False\n",
    "                print(f\"{num}은(는) 소수가 아닙니다.\")\n",
    "                print(\"=============\")\n",
    "                break\n",
    "        \n",
    "        if is_prime == True:\n",
    "            count += 1\n",
    "            print(f\"{num}은(는) 소수입니다. 현재 소수 개수: {count}\")\n",
    "            print(\"=============\")\n",
    "\n",
    "    else:\n",
    "        print(f\"{num}은 소수가 아닙니다.\")\n",
    "        print(\"=============\")\n",
    "\n",
    "print(f\"총 소수 개수: {count}\")\n",
    "\n",
    "\n",
    "\n"
   ]
  },
  {
   "cell_type": "markdown",
   "id": "9c39982e",
   "metadata": {},
   "source": [
    "---"
   ]
  },
  {
   "cell_type": "markdown",
   "id": "19e4e883",
   "metadata": {},
   "source": [
    "# 1929번 - 소수 구하기"
   ]
  },
  {
   "cell_type": "markdown",
   "id": "3c749936",
   "metadata": {},
   "source": [
    "## 풀이1)\n",
    "- 1978번을 응용해서 만든 코드\n",
    "- 시간복잡도 ↑, 백준 시간 초과"
   ]
  },
  {
   "cell_type": "code",
   "execution_count": 27,
   "id": "6d57c288",
   "metadata": {},
   "outputs": [
    {
     "name": "stdout",
     "output_type": "stream",
     "text": [
      "현재 num: 3\n",
      " - 현재 i: 2\n",
      "3은 소수입니다.\n",
      "================\n",
      "현재 num: 4\n",
      " - 현재 i: 2\n",
      "4은 소수가 아닙니다.\n",
      "================\n",
      "현재 num: 5\n",
      " - 현재 i: 2\n",
      " - 현재 i: 3\n",
      " - 현재 i: 4\n",
      "5은 소수입니다.\n",
      "================\n",
      "현재 num: 6\n",
      " - 현재 i: 2\n",
      "6은 소수가 아닙니다.\n",
      "================\n",
      "현재 num: 7\n",
      " - 현재 i: 2\n",
      " - 현재 i: 3\n",
      " - 현재 i: 4\n",
      " - 현재 i: 5\n",
      " - 현재 i: 6\n",
      "7은 소수입니다.\n",
      "================\n",
      "현재 num: 8\n",
      " - 현재 i: 2\n",
      "8은 소수가 아닙니다.\n",
      "================\n",
      "현재 num: 9\n",
      " - 현재 i: 2\n",
      " - 현재 i: 3\n",
      "9은 소수가 아닙니다.\n",
      "================\n",
      "현재 num: 10\n",
      " - 현재 i: 2\n",
      "10은 소수가 아닙니다.\n",
      "================\n",
      "현재 num: 11\n",
      " - 현재 i: 2\n",
      " - 현재 i: 3\n",
      " - 현재 i: 4\n",
      " - 현재 i: 5\n",
      " - 현재 i: 6\n",
      " - 현재 i: 7\n",
      " - 현재 i: 8\n",
      " - 현재 i: 9\n",
      " - 현재 i: 10\n",
      "11은 소수입니다.\n",
      "================\n",
      "현재 num: 12\n",
      " - 현재 i: 2\n",
      "12은 소수가 아닙니다.\n",
      "================\n",
      "현재 num: 13\n",
      " - 현재 i: 2\n",
      " - 현재 i: 3\n",
      " - 현재 i: 4\n",
      " - 현재 i: 5\n",
      " - 현재 i: 6\n",
      " - 현재 i: 7\n",
      " - 현재 i: 8\n",
      " - 현재 i: 9\n",
      " - 현재 i: 10\n",
      " - 현재 i: 11\n",
      " - 현재 i: 12\n",
      "13은 소수입니다.\n",
      "================\n",
      "현재 num: 14\n",
      " - 현재 i: 2\n",
      "14은 소수가 아닙니다.\n",
      "================\n",
      "현재 num: 15\n",
      " - 현재 i: 2\n",
      " - 현재 i: 3\n",
      "15은 소수가 아닙니다.\n",
      "================\n",
      "현재 num: 16\n",
      " - 현재 i: 2\n",
      "16은 소수가 아닙니다.\n",
      "================\n"
     ]
    }
   ],
   "source": [
    "m, n = map(int, input().split())\n",
    "\n",
    "for num in range(m, n+1):\n",
    "    print(f\"현재 num: {num}\")\n",
    "    if num > 1:\n",
    "        is_prime = True\n",
    "        for i in range(2, num):\n",
    "            print(f\" - 현재 i: {i}\")\n",
    "            if num % i == 0:\n",
    "                print(f\"{num}은 소수가 아닙니다.\")\n",
    "                print(\"================\")\n",
    "                is_prime = False\n",
    "                break\n",
    "\n",
    "        if is_prime:\n",
    "            print(f\"{num}은 소수입니다.\")\n",
    "            print(\"================\")\n",
    "\n",
    "    else:\n",
    "        print(f\"{num}은 소수가 아닙니다.\")\n",
    "        print(\"================\")"
   ]
  },
  {
   "cell_type": "markdown",
   "id": "bb3534ed",
   "metadata": {},
   "source": [
    "## 풀이 2)\n",
    "- 풀이 1을 조금 더 발전시킨 형태로\n",
    "- 하나의 약수는 항상 `n`의 제곱근보다 작거나 같고, 다른 하나는 크거나 같은 것을 활용하여 제급근까지만 탐색\n",
    "- 풀이 1에 비해 시간복잡도 낮아짐, 백준 통과 가능하지만 여전히 오래 걸림"
   ]
  },
  {
   "cell_type": "code",
   "execution_count": 28,
   "id": "f25b3d98",
   "metadata": {},
   "outputs": [
    {
     "name": "stdout",
     "output_type": "stream",
     "text": [
      "현재 num: 3\n",
      "3은 소수입니다.\n",
      "================\n",
      "현재 num: 4\n",
      " - 현재 i: 2\n",
      "4은 소수가 아닙니다.\n",
      "================\n",
      "현재 num: 5\n",
      " - 현재 i: 2\n",
      "5은 소수입니다.\n",
      "================\n",
      "현재 num: 6\n",
      " - 현재 i: 2\n",
      "6은 소수가 아닙니다.\n",
      "================\n",
      "현재 num: 7\n",
      " - 현재 i: 2\n",
      "7은 소수입니다.\n",
      "================\n",
      "현재 num: 8\n",
      " - 현재 i: 2\n",
      "8은 소수가 아닙니다.\n",
      "================\n",
      "현재 num: 9\n",
      " - 현재 i: 2\n",
      " - 현재 i: 3\n",
      "9은 소수가 아닙니다.\n",
      "================\n",
      "현재 num: 10\n",
      " - 현재 i: 2\n",
      "10은 소수가 아닙니다.\n",
      "================\n",
      "현재 num: 11\n",
      " - 현재 i: 2\n",
      " - 현재 i: 3\n",
      "11은 소수입니다.\n",
      "================\n",
      "현재 num: 12\n",
      " - 현재 i: 2\n",
      "12은 소수가 아닙니다.\n",
      "================\n",
      "현재 num: 13\n",
      " - 현재 i: 2\n",
      " - 현재 i: 3\n",
      "13은 소수입니다.\n",
      "================\n",
      "현재 num: 14\n",
      " - 현재 i: 2\n",
      "14은 소수가 아닙니다.\n",
      "================\n",
      "현재 num: 15\n",
      " - 현재 i: 2\n",
      " - 현재 i: 3\n",
      "15은 소수가 아닙니다.\n",
      "================\n",
      "현재 num: 16\n",
      " - 현재 i: 2\n",
      "16은 소수가 아닙니다.\n",
      "================\n"
     ]
    }
   ],
   "source": [
    "m, n = map(int, input().split())\n",
    "\n",
    "for num in range(m, n+1):\n",
    "    print(f\"현재 num: {num}\")\n",
    "    if num > 1:\n",
    "        is_prime = True\n",
    "        for i in range(2, int(num**0.5) + 1):\n",
    "            print(f\" - 현재 i: {i}\")\n",
    "            if num % i == 0:\n",
    "                print(f\"{num}은 소수가 아닙니다.\")\n",
    "                print(\"================\")\n",
    "                is_prime = False\n",
    "                break\n",
    "\n",
    "        if is_prime:\n",
    "            print(f\"{num}은 소수입니다.\")\n",
    "            print(\"================\")"
   ]
  },
  {
   "cell_type": "markdown",
   "id": "0aab5ec9",
   "metadata": {},
   "source": [
    "## 풀이 3)\n",
    "- 에라토스테네스의 체 알고리즘 사용\n",
    "    - 범위 최적화: `n`의 제곱근까지만 반복\n",
    "    - 시작점 최적화: 특정 소수 `i`를 지울 때 `i*i`부터 시작\n",
    "- 풀이 2에 비해 시간이 20배 가량 빨라짐"
   ]
  },
  {
   "cell_type": "code",
   "execution_count": 40,
   "id": "1282a277",
   "metadata": {},
   "outputs": [
    {
     "name": "stdout",
     "output_type": "stream",
     "text": [
      "\n",
      "[ 소수 2 발견 ]\n",
      "  --> 2의 배수들을 지워나갑니다.\n",
      "    - 4은 소수가 아닙니다.\n",
      "    - 6은 소수가 아닙니다.\n",
      "    - 8은 소수가 아닙니다.\n",
      "    - 10은 소수가 아닙니다.\n",
      "    - 12은 소수가 아닙니다.\n",
      "    - 14은 소수가 아닙니다.\n",
      "    - 16은 소수가 아닙니다.\n",
      "\n",
      "[ 소수 3 발견 ]\n",
      "  --> 3의 배수들을 지워나갑니다.\n",
      "    - 9은 소수가 아닙니다.\n",
      "    - 12은 소수가 아닙니다.\n",
      "    - 15은 소수가 아닙니다.\n",
      "\n",
      "--- 최종 결과 출력 ---\n",
      "3\n",
      "5\n",
      "7\n",
      "11\n",
      "13\n"
     ]
    }
   ],
   "source": [
    "# m, n 입력받고\n",
    "# is_prime 불리언 테이블 만들어주고\n",
    "# 0, 1은 소수 아니니까 지워주고\n",
    "# 2부터 n의 제곱근 사이로 탐색하게 틀 만들고\n",
    "# is_prime = True 일 때, (시작은 0, 1 빼고 전부 True임)\n",
    "# i*i부터 n+1까지 i배수 탐색하는 틀 만들고\n",
    "# i배수들은 전부 False 선언해주고\n",
    "# for문 밖에서 인풋값 범위 내의 is_prime = True 인 i 값 출력\n",
    "\n",
    "\n",
    "m, n = map(int, input().split())                # 입력값 받기\n",
    "\n",
    "is_prime = [True] * (n+1)                       # 불리언 테이블 세팅\n",
    "\n",
    "is_prime[0] = is_prime[1] = False               # 0과 1은 소수가 아니니까 우선 제거\n",
    "\n",
    "for i in range(2, int(n**0.5) + 1):             # 2부터 n제곱근 사이로 판별할 숫자 범위 정하고                \n",
    "    if is_prime[i]:                             # 위에서 만든 틀안의 is_prime[True]인 숫자 중\n",
    "        print(f\"\\n[ 소수 {i} 발견 ]\")\n",
    "        print(f\"  --> {i}의 배수들을 지워나갑니다.\")\n",
    "        for j in range(i*i, n+1, i):            # i*i부터 n+1 사이의 i의 배수를\n",
    "            print(f\"    - {j}은 소수가 아닙니다.\")\n",
    "            is_prime[j] = False                 # 지우고(false 처리하고)\n",
    "\n",
    "print()\n",
    "print(\"--- 최종 결과 출력 ---\")\n",
    "for i in range(m, n+1):                         # m부터 n까지의 i 중,\n",
    "    if is_prime[i]:                             # is_prime[i] = True이면\n",
    "        print(i)                                # i(소수로 판명된 수) 출력\n",
    "\n",
    "\n",
    "\n",
    "\n"
   ]
  },
  {
   "cell_type": "markdown",
   "id": "22e06b6d",
   "metadata": {},
   "source": []
  }
 ],
 "metadata": {
  "kernelspec": {
   "display_name": "pystudy_env",
   "language": "python",
   "name": "python3"
  },
  "language_info": {
   "codemirror_mode": {
    "name": "ipython",
    "version": 3
   },
   "file_extension": ".py",
   "mimetype": "text/x-python",
   "name": "python",
   "nbconvert_exporter": "python",
   "pygments_lexer": "ipython3",
   "version": "3.12.8"
  }
 },
 "nbformat": 4,
 "nbformat_minor": 5
}
